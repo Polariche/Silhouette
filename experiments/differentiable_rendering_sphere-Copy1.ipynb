{
 "cells": [
  {
   "cell_type": "code",
   "execution_count": 1,
   "id": "7d7f185d",
   "metadata": {},
   "outputs": [],
   "source": [
    "import torch\n",
    "import torch.nn.functional as F\n",
    "import torch.nn as nn\n",
    "from torch.optim import Adam\n",
    "\n",
    "import matplotlib.pyplot as plt\n",
    "from IPython.display import clear_output\n",
    "\n",
    "import sys\n",
    "sys.path.insert(0,'..')\n",
    "\n",
    "import sampler\n",
    "import camera\n",
    "import optimization\n",
    "from sdf import DeepSDF, SphereSDF\n",
    "\n"
   ]
  },
  {
   "cell_type": "code",
   "execution_count": 2,
   "id": "ad872d17",
   "metadata": {},
   "outputs": [],
   "source": [
    "device = torch.device('cuda' if torch.cuda.is_available() else 'cpu')\n",
    "cam = camera.PerspectiveCamera()\n",
    "sdf = SphereSDF(torch.zeros((3), device=device), 1)\n",
    "\n",
    "# create samples\n",
    "uv = sampler.grid_2d(64, 64).to(device).unsqueeze(0)\n",
    "depth = torch.zeros((*uv.shape[:-1], 1), device=uv.device).requires_grad_(True)\n",
    "pose = torch.zeros((4,4), device=uv.device)\n",
    "pose[:3, :3] = torch.eye(3)\n",
    "pose[2,3] = -3\n",
    "\n",
    "foo = lambda d: sdf(cam(uv, d, pose))"
   ]
  },
  {
   "cell_type": "code",
   "execution_count": 3,
   "id": "f6eaf9e4",
   "metadata": {},
   "outputs": [
    {
     "data": {
      "image/png": "[encoded data removed]",
      "text/plain": [
       "<Figure size 432x288 with 1 Axes>"
      ]
     },
     "metadata": {
      "needs_background": "light"
     },
     "output_type": "display_data"
    }
   ],
   "source": [
    "import matplotlib.pyplot as plt\n",
    "\n",
    "for i in range(10):\n",
    "    \n",
    "    clear_output(wait=True)\n",
    "    plt.imshow(foo(depth).detach().cpu().numpy().reshape(64,64,1) < 1e-6)\n",
    "    #plt.imshow(depth.detach().numpy().reshape(64,64,1))\n",
    "    plt.show()\n",
    "    \n",
    "    depth = optimization.lm(depth, foo, 1e-4)\n",
    "    \n",
    "mask_gt = torch.sigmoid(- foo(depth) / 1e-3).view(64,64,1).detach()"
   ]
  },
  {
   "cell_type": "code",
   "execution_count": 4,
   "id": "51113591",
   "metadata": {},
   "outputs": [
    {
     "data": {
      "text/plain": [
       "<matplotlib.collections.PathCollection at 0x7ff11ff033d0>"
      ]
     },
     "execution_count": 4,
     "metadata": {},
     "output_type": "execute_result"
    },
    {
     "data": {
      "image/png": "[encoded data removed]",
      "text/plain": [
       "<Figure size 432x288 with 1 Axes>"
      ]
     },
     "metadata": {
      "needs_background": "light"
     },
     "output_type": "display_data"
    }
   ],
   "source": [
    "li = []\n",
    "li2 = []\n",
    "li3 = []\n",
    "\n",
    "for i in range(500):\n",
    "    li.append(foo(torch.ones(*uv.shape[:-1], 1, device=uv.device) * 1e-2 * i)[0, 30*64+30, 0])\n",
    "\n",
    "for i in range(20):\n",
    "    depth = optimization.lm(depth, foo)\n",
    "    ff = foo(depth)\n",
    "    \n",
    "    li2.append(depth[0, 30*64+30, 0].item() * 100)\n",
    "    li3.append(ff[0, 30*64+30, 0].item())\n",
    "    \n",
    "plt.plot(range(500), li)\n",
    "plt.plot(range(500), [0]*500)\n",
    "plt.scatter(li2, li3)"
   ]
  },
  {
   "cell_type": "code",
   "execution_count": 7,
   "id": "60dc8ebd",
   "metadata": {},
   "outputs": [
    {
     "data": {
      "text/plain": [
       "DeepSDF(\n",
       "  (fc0): Linear(in_features=259, out_features=512, bias=True)\n",
       "  (bn0): LayerNorm((512,), eps=1e-05, elementwise_affine=True)\n",
       "  (fc1): Linear(in_features=512, out_features=512, bias=True)\n",
       "  (bn1): LayerNorm((512,), eps=1e-05, elementwise_affine=True)\n",
       "  (fc2): Linear(in_features=512, out_features=512, bias=True)\n",
       "  (bn2): LayerNorm((512,), eps=1e-05, elementwise_affine=True)\n",
       "  (fc3): Linear(in_features=512, out_features=253, bias=True)\n",
       "  (bn3): LayerNorm((253,), eps=1e-05, elementwise_affine=True)\n",
       "  (fc4): Linear(in_features=512, out_features=512, bias=True)\n",
       "  (bn4): LayerNorm((512,), eps=1e-05, elementwise_affine=True)\n",
       "  (fc5): Linear(in_features=512, out_features=512, bias=True)\n",
       "  (bn5): LayerNorm((512,), eps=1e-05, elementwise_affine=True)\n",
       "  (fc6): Linear(in_features=512, out_features=512, bias=True)\n",
       "  (bn6): LayerNorm((512,), eps=1e-05, elementwise_affine=True)\n",
       "  (fc7): Linear(in_features=512, out_features=1, bias=True)\n",
       "  (bn7): LayerNorm((1,), eps=1e-05, elementwise_affine=True)\n",
       "  (dropout): Dropout(p=0.1, inplace=False)\n",
       ")"
      ]
     },
     "execution_count": 7,
     "metadata": {},
     "output_type": "execute_result"
    }
   ],
   "source": [
    "cam = camera.PerspectiveCamera()\n",
    "\n",
    "sdf = DeepSDF(8).to(device)\n",
    "sdf.eval()"
   ]
  },
  {
   "cell_type": "code",
   "execution_count": 8,
   "id": "50315f91",
   "metadata": {},
   "outputs": [
    {
     "data": {
      "image/png": "[encoded data removed]",
      "text/plain": [
       "<Figure size 432x288 with 1 Axes>"
      ]
     },
     "metadata": {
      "needs_background": "light"
     },
     "output_type": "display_data"
    }
   ],
   "source": [
    "adam = Adam(sdf.parameters(), lr=5e-4)\n",
    "li = []\n",
    "for j in range(500):\n",
    "    # create samples\n",
    "    uv = sampler.grid_2d(64, 64).to(device).unsqueeze(0)\n",
    "    depth = torch.zeros((*uv.shape[:-1], 1), device=uv.device).requires_grad_(True)\n",
    "    pose = torch.zeros((4,4), device=uv.device)\n",
    "    pose[:3, :3] = torch.eye(3)\n",
    "    pose[2,3] = -3\n",
    "    \n",
    "    foo = lambda d: sdf(torch.cat([cam(uv, d, pose), torch.zeros(*uv.shape[:-1], 256, device=uv.device)], dim=-1))\n",
    "    \n",
    "    for i in range(5):\n",
    "        depth = optimization.lm(depth, foo, 1e-3)\n",
    "        \n",
    "    mask = torch.sigmoid(- foo(depth) / 1e-3).view(64,64,1)\n",
    "    \n",
    "    clear_output(wait=True)\n",
    "    \n",
    "    #plt.imshow((mask - mask_gt).detach().numpy())\n",
    "    plt.imshow(mask.detach().cpu().numpy())\n",
    "    plt.clim(-1,1)\n",
    "    plt.show()\n",
    "\n",
    "    adam.zero_grad()\n",
    "    \n",
    "    loss = ((mask - mask_gt) ** 2).mean()    # l2 loss\n",
    "    #loss_f = nn.BCELoss()\n",
    "    #loss = loss_f(mask, mask_gt)              # bce loss\n",
    "    \n",
    "    li.append(loss.item())\n",
    "    loss.backward()\n",
    "    adam.step()\n"
   ]
  },
  {
   "cell_type": "code",
   "execution_count": null,
   "id": "d44008ed",
   "metadata": {},
   "outputs": [],
   "source": [
    "plt.plot(range(500), li)"
   ]
  },
  {
   "cell_type": "code",
   "execution_count": null,
   "id": "3e656571",
   "metadata": {},
   "outputs": [],
   "source": []
  }
 ],
 "metadata": {
  "interpreter": {
   "hash": "767d51c1340bd893661ea55ea3124f6de3c7a262a8b4abca0554b478b1e2ff90"
  },
  "kernelspec": {
   "display_name": "Python 3 (ipykernel)",
   "language": "python",
   "name": "python3"
  },
  "language_info": {
   "codemirror_mode": {
    "name": "ipython",
    "version": 3
   },
   "file_extension": ".py",
   "mimetype": "text/x-python",
   "name": "python",
   "nbconvert_exporter": "python",
   "pygments_lexer": "ipython3",
   "version": "3.7.7"
  }
 },
 "nbformat": 4,
 "nbformat_minor": 5
}
