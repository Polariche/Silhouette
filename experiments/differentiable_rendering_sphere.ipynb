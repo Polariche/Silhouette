{
 "cells": [
  {
   "cell_type": "code",
   "execution_count": 13,
   "id": "cd351caa",
   "metadata": {},
   "outputs": [],
   "source": [
    "import torch\n",
    "import torch.nn.functional as F\n",
    "import torch.nn as nn\n",
    "from torch.optim import Adam\n",
    "\n",
    "import sys\n",
    "sys.path.insert(0,'..')\n",
    "\n",
    "\n",
    "import matplotlib.pyplot as plt\n",
    "from IPython.display import clear_output\n",
    "\n",
    "import sampler\n",
    "import camera\n",
    "import optimization\n",
    "from sdf import SphereSDF"
   ]
  },
  {
   "cell_type": "code",
   "execution_count": 14,
   "id": "ffec53d1",
   "metadata": {},
   "outputs": [],
   "source": [
    "def lm(x, f, lamb = 1.1):\n",
    "    y = f(x)\n",
    "    dx = torch.autograd.grad(y, [x], grad_outputs=torch.ones_like(y), retain_graph=True, create_graph=True)[0]\n",
    " \n",
    "    J = dx.unsqueeze(-1)\n",
    "    Jt = J.transpose(-2, -1)\n",
    "    JtJ = torch.matmul(Jt, J)\n",
    "\n",
    "    k = JtJ.shape[-1]\n",
    " \n",
    "    diag_JtJ = torch.cat([JtJ[..., i, i] for i in range(k)])\n",
    "    diag_JtJ = diag_JtJ.view(-1, k, 1)\n",
    "    diag_JtJ = torch.eye(k, device=x.device).unsqueeze(0).expand(diag_JtJ.shape[0], -1, -1) * diag_JtJ\n",
    " \n",
    "    pinv = torch.matmul(torch.inverse(JtJ + lamb * diag_JtJ), Jt)\n",
    "\n",
    "    delta = - pinv * y.unsqueeze(-1)\n",
    "    delta = delta[..., 0, :]\n",
    " \n",
    "    return x + delta"
   ]
  },
  {
   "cell_type": "code",
   "execution_count": 15,
   "id": "a468d59f",
   "metadata": {},
   "outputs": [],
   "source": [
    "cam = camera.PerspectiveCamera()\n",
    "sdf = SphereSDF(torch.zeros((3)), 1)\n",
    "\n",
    "# create samples\n",
    "uv = sampler.grid_2d(64, 64).unsqueeze(0)\n",
    "depth = torch.zeros((*uv.shape[:-1], 1), device=uv.device).requires_grad_(True)\n",
    "pose = torch.zeros((4,4), device=uv.device)\n",
    "pose[:3, :3] = torch.eye(3)\n",
    "pose[2,3] = -3\n",
    "\n",
    "foo = lambda d: sdf(cam(uv, d, pose))"
   ]
  },
  {
   "cell_type": "code",
   "execution_count": 16,
   "id": "d271a040",
   "metadata": {},
   "outputs": [
    {
     "data": {
      "image/png": "[encoded data removed]",
      "text/plain": [
       "<Figure size 432x288 with 1 Axes>"
      ]
     },
     "metadata": {
      "needs_background": "light"
     },
     "output_type": "display_data"
    }
   ],
   "source": [
    "import matplotlib.pyplot as plt\n",
    "\n",
    "for i in range(10):\n",
    "    clear_output(wait=True)\n",
    "    plt.imshow(foo(depth).detach().numpy().reshape(64,64,1) < 1e-6)\n",
    "    #plt.imshow(depth.detach().numpy().reshape(64,64,1))\n",
    "    plt.show()\n",
    "    \n",
    "    depth = optimization.lm(depth, foo, 1e-4)\n",
    "    \n",
    "mask_gt = F.sigmoid(- foo(depth) / 1e-3).view(64,64,1).detach()"
   ]
  },
  {
   "cell_type": "code",
   "execution_count": 17,
   "id": "4b6d04e0",
   "metadata": {},
   "outputs": [
    {
     "data": {
      "text/plain": [
       "<matplotlib.collections.PathCollection at 0x7fa6787f57d0>"
      ]
     },
     "execution_count": 17,
     "metadata": {},
     "output_type": "execute_result"
    },
    {
     "data": {
      "image/png": "[encoded data removed]",
      "text/plain": [
       "<Figure size 432x288 with 1 Axes>"
      ]
     },
     "metadata": {
      "needs_background": "light"
     },
     "output_type": "display_data"
    }
   ],
   "source": [
    "li = []\n",
    "li2 = []\n",
    "li3 = []\n",
    "\n",
    "for i in range(500):\n",
    "    li.append(foo(torch.ones(*uv.shape[:-1], 1, device=uv.device) * 1e-2 * i)[0, 10*64+10, 0])\n",
    "\n",
    "for i in range(20):\n",
    "    depth = optimization.lm(depth, foo)\n",
    "    ff = foo(depth)\n",
    "    \n",
    "    li2.append(depth[0, 10*64+10, 0].item() * 100)\n",
    "    li3.append(ff[0, 10*64+10, 0].item())\n",
    "    \n",
    "plt.plot(range(500), li)\n",
    "plt.plot(range(500), [0]*500)\n",
    "plt.scatter(li2, li3)"
   ]
  },
  {
   "cell_type": "code",
   "execution_count": 18,
   "id": "fbe857d0",
   "metadata": {},
   "outputs": [],
   "source": [
    "cam = camera.PerspectiveCamera()\n",
    "pos = torch.randn((3)) * 5e-1\n",
    "pos.requires_grad_(True)\n",
    "\n",
    "sdf = SphereSDF(pos, 1)"
   ]
  },
  {
   "cell_type": "code",
   "execution_count": 19,
   "id": "d7149136",
   "metadata": {},
   "outputs": [
    {
     "data": {
      "image/png": "[encoded data removed]",
      "text/plain": [
       "<Figure size 432x288 with 1 Axes>"
      ]
     },
     "metadata": {
      "needs_background": "light"
     },
     "output_type": "display_data"
    }
   ],
   "source": [
    "import matplotlib.pyplot as plt\n",
    "from IPython.display import clear_output\n",
    "\n",
    "adam = Adam([pos], lr=1e-2)\n",
    "li = []\n",
    "for j in range(100):\n",
    "    # create samples\n",
    "    uv = sampler.grid_2d(64, 64).unsqueeze(0)\n",
    "    depth = torch.zeros((*uv.shape[:-1], 1), device=uv.device).requires_grad_(True)\n",
    "    pose = torch.zeros((4,4), device=uv.device)\n",
    "    pose[:3, :3] = torch.eye(3)\n",
    "    pose[2,3] = -3\n",
    "    \n",
    "    for i in range(5):\n",
    "        #plt.imshow(F.sigmoid(- foo(depth) / 1e-3).detach().numpy().reshape(64,64,1))\n",
    "        #plt.show()\n",
    "        depth = optimization.lm(depth, foo, 1e-4)\n",
    "        \n",
    "    mask = F.sigmoid(- foo(depth) / 1e-3).view(64,64,1)\n",
    "    \n",
    "    clear_output(wait=True)\n",
    "    \n",
    "    plt.imshow((mask - mask_gt).detach().numpy())\n",
    "    plt.clim(-1,1)\n",
    "    plt.show()\n",
    "\n",
    "    adam.zero_grad()\n",
    "    loss = ((mask - mask_gt) ** 2).mean()\n",
    "    li.append(loss.item())\n",
    "    loss.backward()\n",
    "    adam.step()\n"
   ]
  },
  {
   "cell_type": "code",
   "execution_count": 33,
   "id": "1ca3c508",
   "metadata": {},
   "outputs": [
    {
     "data": {
      "text/plain": [
       "[<matplotlib.lines.Line2D at 0x7fb540047910>]"
      ]
     },
     "execution_count": 33,
     "metadata": {},
     "output_type": "execute_result"
    },
    {
     "data": {
      "image/png": "[encoded data removed]",
      "text/plain": [
       "<Figure size 432x288 with 1 Axes>"
      ]
     },
     "metadata": {
      "needs_background": "light"
     },
     "output_type": "display_data"
    }
   ],
   "source": [
    "plt.plot(range(100), li)"
   ]
  },
  {
   "cell_type": "code",
   "execution_count": null,
   "id": "3381f370",
   "metadata": {},
   "outputs": [],
   "source": []
  }
 ],
 "metadata": {
  "interpreter": {
   "hash": "767d51c1340bd893661ea55ea3124f6de3c7a262a8b4abca0554b478b1e2ff90"
  },
  "kernelspec": {
   "display_name": "Python 3 (ipykernel)",
   "language": "python",
   "name": "python3"
  },
  "language_info": {
   "codemirror_mode": {
    "name": "ipython",
    "version": 3
   },
   "file_extension": ".py",
   "mimetype": "text/x-python",
   "name": "python",
   "nbconvert_exporter": "python",
   "pygments_lexer": "ipython3",
   "version": "3.7.7"
  }
 },
 "nbformat": 4,
 "nbformat_minor": 5
}
