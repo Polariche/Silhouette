{
 "cells": [
  {
   "cell_type": "code",
   "execution_count": 1,
   "id": "7d7f185d",
   "metadata": {},
   "outputs": [],
   "source": [
    "import torch\n",
    "import torch.nn.functional as F\n",
    "import torch.nn as nn\n",
    "from torch.optim import Adam\n",
    "\n",
    "import numpy as np\n",
    "\n",
    "import matplotlib.pyplot as plt\n",
    "from IPython.display import clear_output\n",
    "\n",
    "import sys\n",
    "sys.path.insert(0,'..')\n",
    "\n",
    "import sampler\n",
    "import camera\n",
    "import optimization\n",
    "from sdf import DeepSDF, SphereSDF, PositionalSDF\n",
    "\n"
   ]
  },
  {
   "cell_type": "code",
   "execution_count": 2,
   "id": "ad872d17",
   "metadata": {},
   "outputs": [],
   "source": [
    "device = torch.device('cuda' if torch.cuda.is_available() else 'cpu')\n",
    "cam = camera.PerspectiveCamera()\n",
    "sdf = SphereSDF(torch.zeros((3), device=device), 1)\n",
    "\n",
    "# create samples\n",
    "uv = sampler.grid_2d(64, 64).to(device).unsqueeze(0)\n",
    "depth = torch.zeros((*uv.shape[:-1], 1), device=uv.device).requires_grad_(True)\n",
    "pose = torch.zeros((4,4), device=uv.device)\n",
    "pose[:3, :3] = torch.eye(3)\n",
    "pose[2,3] = -3\n",
    "\n",
    "foo = lambda d: sdf(cam(uv, d, pose))"
   ]
  },
  {
   "cell_type": "code",
   "execution_count": 3,
   "id": "f6eaf9e4",
   "metadata": {},
   "outputs": [
    {
     "data": {
      "image/png": "[encoded data removed]",
      "text/plain": [
       "<Figure size 432x288 with 1 Axes>"
      ]
     },
     "metadata": {
      "needs_background": "light"
     },
     "output_type": "display_data"
    }
   ],
   "source": [
    "import matplotlib.pyplot as plt\n",
    "\n",
    "for i in range(10):\n",
    "    \n",
    "    clear_output(wait=True)\n",
    "    plt.imshow(foo(depth).detach().cpu().numpy().reshape(64,64,1) < 1e-6)\n",
    "    #plt.imshow(depth.detach().numpy().reshape(64,64,1))\n",
    "    plt.show()\n",
    "    \n",
    "    depth = optimization.lm(depth, foo, 1e-4)\n",
    "    \n",
    "mask_gt = torch.sigmoid(- foo(depth) / 1e-3).view(64,64,1).detach()"
   ]
  },
  {
   "cell_type": "code",
   "execution_count": 68,
   "id": "0eb2e08e",
   "metadata": {},
   "outputs": [],
   "source": [
    "\n",
    "# modified implementation\n",
    "class PositionalSDF(nn.Module):\n",
    "    def __init__(self, num_layers):\n",
    "        super(PositionalSDF, self).__init__()\n",
    "        self.num_layers = num_layers\n",
    "        \n",
    "        # positional encoding\n",
    "        self.pe = nn.Linear(3+256, 128, bias=True)\n",
    "        nn.init.normal_(self.pe.weight, 0.0, 1e+1)\n",
    "\n",
    "        for i in range(num_layers):\n",
    "            in_dim = 512\n",
    "            out_dim = 512\n",
    "\n",
    "            if i == 0:\n",
    "                in_dim = 256\n",
    "            if i == num_layers-1:\n",
    "                out_dim = 1\n",
    "            elif i == int(num_layers/2)-1:\n",
    "                out_dim = 512 - (256) #259\n",
    "\n",
    "            # weight-normalized linear FC\n",
    "            setattr(self, \"fc\" + str(i), nn.utils.weight_norm(nn.Linear(in_dim, out_dim)))\n",
    "\n",
    "            # weight normalization??\n",
    "            setattr(self, \"bn\" + str(i), nn.LayerNorm(out_dim))\n",
    "\n",
    "        self.dropout = nn.Dropout(0.1)\n",
    "\n",
    "        for p in self.parameters():\n",
    "            if len(p.shape) == 1:\n",
    "                nn.init.uniform(p, 0., 0.)\n",
    "\n",
    "        \n",
    "\n",
    "    def forward(self, x):\n",
    "        num_layers = self.num_layers\n",
    "        \n",
    "        pi = np.pi\n",
    "        x = self.pe(x)\n",
    "        x = torch.cat([torch.sin(2*pi*x), torch.cos(2*pi*x)], dim=-1)\n",
    "        \n",
    "        x_origin = x\n",
    "\n",
    "        for i in range(num_layers):\n",
    "            fc = getattr(self, \"fc\" + str(i))\n",
    "            bn = getattr(self, \"bn\" + str(i))\n",
    "\n",
    "            if i == int(num_layers/2):\n",
    "                x = torch.cat([x, x_origin], dim=-1)\n",
    "\n",
    "            x = fc(x)\n",
    "\n",
    "            if i < self.num_layers:\n",
    "                x = F.leaky_relu(x) #torch.tanh(x)\n",
    "                x = self.dropout(x)\n",
    "\n",
    "            \n",
    "        output = F.leaky_relu(x) #torch.tanh(x)\n",
    "        return output"
   ]
  },
  {
   "cell_type": "code",
   "execution_count": 83,
   "id": "556a261f",
   "metadata": {},
   "outputs": [],
   "source": [
    "\n",
    "\n",
    "# modified implementation\n",
    "class DeepSDF(nn.Module):\n",
    "    def __init__(self, num_layers):\n",
    "        super(DeepSDF, self).__init__()\n",
    "        self.num_layers = num_layers\n",
    "\n",
    "        for i in range(num_layers):\n",
    "            in_dim = 512\n",
    "            out_dim = 512\n",
    "\n",
    "            if i == 0:\n",
    "                in_dim = 3+256  #259\n",
    "            elif i == num_layers-1:\n",
    "                out_dim = 1\n",
    "            elif i == int(num_layers/2)-1:\n",
    "                out_dim = 512 - (3+256) #259\n",
    "\n",
    "            # weight-normalized linear FC\n",
    "            setattr(self, \"fc\" + str(i), nn.utils.weight_norm(nn.Linear(in_dim, out_dim)))\n",
    "\n",
    "            # weight normalization??\n",
    "            setattr(self, \"bn\" + str(i), nn.LayerNorm(out_dim))\n",
    "\n",
    "        self.dropout = nn.Dropout(0.1)\n",
    "\n",
    "        for p in self.parameters():\n",
    "            if len(p.shape) == 1:\n",
    "                nn.init.uniform(p, 0., 0.)\n",
    "\n",
    "    def forward(self, x):\n",
    "        num_layers = self.num_layers\n",
    "        x_origin = x\n",
    "\n",
    "        for i in range(num_layers):\n",
    "            fc = getattr(self, \"fc\" + str(i))\n",
    "            bn = getattr(self, \"bn\" + str(i))\n",
    "\n",
    "            if i == int(num_layers/2):\n",
    "                x = torch.cat([x, x_origin], dim=-1)\n",
    "\n",
    "            x = fc(x)\n",
    "\n",
    "            if i < self.num_layers:\n",
    "                x = F.leaky_relu(x) #torch.tanh(x)\n",
    "                x = self.dropout(x)\n",
    "\n",
    "            \n",
    "        output = torch.tanh(x)\n",
    "        return output"
   ]
  },
  {
   "cell_type": "code",
   "execution_count": 84,
   "id": "60dc8ebd",
   "metadata": {},
   "outputs": [
    {
     "name": "stderr",
     "output_type": "stream",
     "text": [
      "/opt/conda/lib/python3.7/site-packages/ipykernel_launcher.py:32: UserWarning: nn.init.uniform is now deprecated in favor of nn.init.uniform_.\n"
     ]
    },
    {
     "data": {
      "text/plain": [
       "PositionalSDF(\n",
       "  (pe): Linear(in_features=259, out_features=128, bias=True)\n",
       "  (fc0): Linear(in_features=256, out_features=512, bias=True)\n",
       "  (bn0): LayerNorm((512,), eps=1e-05, elementwise_affine=True)\n",
       "  (fc1): Linear(in_features=512, out_features=512, bias=True)\n",
       "  (bn1): LayerNorm((512,), eps=1e-05, elementwise_affine=True)\n",
       "  (fc2): Linear(in_features=512, out_features=512, bias=True)\n",
       "  (bn2): LayerNorm((512,), eps=1e-05, elementwise_affine=True)\n",
       "  (fc3): Linear(in_features=512, out_features=256, bias=True)\n",
       "  (bn3): LayerNorm((256,), eps=1e-05, elementwise_affine=True)\n",
       "  (fc4): Linear(in_features=512, out_features=512, bias=True)\n",
       "  (bn4): LayerNorm((512,), eps=1e-05, elementwise_affine=True)\n",
       "  (fc5): Linear(in_features=512, out_features=512, bias=True)\n",
       "  (bn5): LayerNorm((512,), eps=1e-05, elementwise_affine=True)\n",
       "  (fc6): Linear(in_features=512, out_features=512, bias=True)\n",
       "  (bn6): LayerNorm((512,), eps=1e-05, elementwise_affine=True)\n",
       "  (fc7): Linear(in_features=512, out_features=1, bias=True)\n",
       "  (bn7): LayerNorm((1,), eps=1e-05, elementwise_affine=True)\n",
       "  (dropout): Dropout(p=0.1, inplace=False)\n",
       ")"
      ]
     },
     "execution_count": 84,
     "metadata": {},
     "output_type": "execute_result"
    }
   ],
   "source": [
    "cam = camera.PerspectiveCamera()\n",
    "\n",
    "sdf = PositionalSDF(8).to(device)\n",
    "sdf.eval()"
   ]
  },
  {
   "cell_type": "code",
   "execution_count": null,
   "id": "50315f91",
   "metadata": {},
   "outputs": [
    {
     "data": {
      "image/png": "[encoded data removed]",
      "text/plain": [
       "<Figure size 432x288 with 2 Axes>"
      ]
     },
     "metadata": {
      "needs_background": "light"
     },
     "output_type": "display_data"
    }
   ],
   "source": [
    "adam = Adam(sdf.parameters(), lr=1e-4)\n",
    "li = []\n",
    "for j in range(500):\n",
    "    # create samples\n",
    "    uv = sampler.grid_2d(64, 64).to(device).unsqueeze(0)\n",
    "    depth = (torch.randn((*uv.shape[:-1], 1), device=uv.device) * 1e-2 + 1e-2).requires_grad_(True)\n",
    "    pose = torch.zeros((4,4), device=uv.device)\n",
    "    pose[:3, :3] = torch.eye(3)\n",
    "    pose[2,3] = -3\n",
    "    \n",
    "    foo = lambda d: sdf(torch.cat([cam(uv, d, pose), torch.zeros(*uv.shape[:-1], 256, device=uv.device)], dim=-1))\n",
    "    \n",
    "    for i in range(5):\n",
    "        depth = optimization.lm(depth, foo, 1e-4)\n",
    "        \n",
    "    mask = torch.sigmoid(- foo(depth) / 1e-3).view(64,64,1)\n",
    "    \n",
    "    adam.zero_grad()\n",
    "    loss = ((mask - mask_gt) ** 2).mean()    # l2 loss\n",
    "    #loss_f = nn.BCELoss()\n",
    "    #loss = loss_f(mask, mask_gt)              # bce loss\n",
    "    \n",
    "    li.append(loss.item())\n",
    "    loss.backward()\n",
    "    adam.step()\n",
    "    \n",
    "\n",
    "    clear_output(wait=True)\n",
    "    \n",
    "    plt.subplot(1, 2, 1)\n",
    "    plt.imshow((depth).view(64,64,1).detach().cpu().numpy())\n",
    "    plt.clim(0,3)\n",
    "    \n",
    "    plt.subplot(1, 2, 2)\n",
    "    plt.imshow(mask.detach().cpu().numpy())\n",
    "    plt.clim(-1,1)\n",
    "    plt.show()\n"
   ]
  },
  {
   "cell_type": "code",
   "execution_count": null,
   "id": "d44008ed",
   "metadata": {},
   "outputs": [],
   "source": [
    "plt.plot(range(500), li)"
   ]
  },
  {
   "cell_type": "code",
   "execution_count": null,
   "id": "3e656571",
   "metadata": {},
   "outputs": [],
   "source": []
  }
 ],
 "metadata": {
  "interpreter": {
   "hash": "767d51c1340bd893661ea55ea3124f6de3c7a262a8b4abca0554b478b1e2ff90"
  },
  "kernelspec": {
   "display_name": "Python 3 (ipykernel)",
   "language": "python",
   "name": "python3"
  },
  "language_info": {
   "codemirror_mode": {
    "name": "ipython",
    "version": 3
   },
   "file_extension": ".py",
   "mimetype": "text/x-python",
   "name": "python",
   "nbconvert_exporter": "python",
   "pygments_lexer": "ipython3",
   "version": "3.7.7"
  }
 },
 "nbformat": 4,
 "nbformat_minor": 5
}
